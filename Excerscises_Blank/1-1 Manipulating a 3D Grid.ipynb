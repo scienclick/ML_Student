{
 "cells": [
  {
   "cell_type": "markdown",
   "id": "1c63fa68",
   "metadata": {},
   "source": [
    "<img src=\"../images/logo.png\" alt=\"slb\" style= \"width: 1700px\"/>"
   ]
  },
  {
   "cell_type": "markdown",
   "id": "e19536c7",
   "metadata": {},
   "source": [
    "# ⚡️   - Tutorial 1: Manipulating a 3D Grid in Python"
   ]
  },
  {
   "cell_type": "markdown",
   "id": "0a0c81c0",
   "metadata": {},
   "source": [
    "💡 The objective of this exercise is to import geological properties calculated on a 3D seismic cube, and learn how to perform the following operations using this data:\n",
    "\n",
    "* Run statistics \n",
    "* Create 2D plots\n",
    "* Map a specific layer of the property cube\n",
    "* Calculate volumetrics (OOIP) on specific layers\n",
    "\n",
    "✔ The data for this tutorial comes from a 3D seismic cube from offshore Australia. \n",
    "\n",
    "💡 In Petrel, the following geological properties were calculated using a seismic cube: \n",
    "\n",
    "- Net to Gross \n",
    "- Water Saturation \n",
    "- Permeability \n",
    "- Porosity \n",
    "\n",
    "Your task is to import these properties into python and perform different calculations on them. \n",
    "\n",
    "👇 Below is an example of the porosity distribution through the seismic cube:\n",
    "\n",
    "\n",
    "<img src=\"../images/Pic1.jpg\" style=\"width: 1800px\"/>"
   ]
  },
  {
   "cell_type": "markdown",
   "id": "039bba56",
   "metadata": {},
   "source": [
    "## 🏁Step 1: Import Libraries"
   ]
  },
  {
   "cell_type": "markdown",
   "id": "8c1caceb",
   "metadata": {},
   "source": [
    "🧰 To start your project, it's essential to import the required libraries. \n",
    "\n",
    "You might need further libraries down the road, so you can get back to this first cell and add them later.\n",
    "\n",
    "Having said that, there is no problem if you need to add your libraries anywhere in the notebook, though it is best practice to have them at the beginning 👇 "
   ]
  },
  {
   "cell_type": "code",
   "execution_count": null,
   "id": "49776dad",
   "metadata": {},
   "outputs": [],
   "source": [
    "# Import required libraries\n",
    "import numpy as np \n",
    "import matplotlib.pyplot as plt "
   ]
  },
  {
   "cell_type": "markdown",
   "id": "e457f70c",
   "metadata": {},
   "source": [
    "## 🏁Step 2: Import and Explore the Dataset\n",
    "\n",
    "The \"All properties.txt\" file was exported from Petrel as a 2D array; it contains four columns corresponding to the following properties:\n",
    "\n",
    "- First column: Net to Gross (ntg)\n",
    "- Second column: Water Saturation (sw)\n",
    "- Third column: Permeability (perm)\n",
    "- Fourth column: Porosity (phi)"
   ]
  },
  {
   "cell_type": "markdown",
   "id": "36e04764",
   "metadata": {},
   "source": [
    "💡 Note that different libraries may require different methods for importing files. Therefore, there are various ways to import files into your notebook, depending on the library you're working with\n",
    "\n",
    "We are going to explore different ways in this course. However, it is very common to google the right way for loading a particular file, for example segy files, image files, time series, etc."
   ]
  },
  {
   "cell_type": "code",
   "execution_count": null,
   "id": "558647a7",
   "metadata": {},
   "outputs": [],
   "source": [
    "# 👇 This is how we can load a .txt file using Numpy (np)\n",
    "\n",
    "all_properties= np.loadtxt(\"../Data/All properties.txt\") # \"all_properties\" is the name that we assigned to this dataset"
   ]
  },
  {
   "cell_type": "code",
   "execution_count": null,
   "id": "9c594d85",
   "metadata": {
    "scrolled": false
   },
   "outputs": [],
   "source": [
    "# Display a summary of the 2D array\n",
    "\n"
   ]
  },
  {
   "cell_type": "markdown",
   "id": "c4d4af40",
   "metadata": {},
   "source": [
    "❓ What does `-99.` mean in the loaded data?"
   ]
  },
  {
   "cell_type": "markdown",
   "id": "00e5411e",
   "metadata": {},
   "source": [
    "<details>\n",
    "<summary> 💡 Hint </summary>\n",
    "    \n",
    "The upper layers, and lower layers of the grid can have null values. so -99. are **Null values**.\n",
    "\n",
    "</details>"
   ]
  },
  {
   "cell_type": "code",
   "execution_count": null,
   "id": "a9a150ea",
   "metadata": {},
   "outputs": [],
   "source": [
    "# Check the shape of the 2D array (rows, columns)\n"
   ]
  },
  {
   "cell_type": "markdown",
   "id": "fc1f600e",
   "metadata": {},
   "source": [
    "❓ What do `932400`  and `4` represent in the property cube?"
   ]
  },
  {
   "cell_type": "markdown",
   "id": "5f93767e",
   "metadata": {},
   "source": [
    "<details>\n",
    "<summary> 💡 Hint </summary>\n",
    "    \n",
    "932400 is total number of cells, and 4 represents four different properties.\n",
    "\n",
    "</details>"
   ]
  },
  {
   "cell_type": "markdown",
   "id": "80e3eabd",
   "metadata": {},
   "source": [
    "## 🏁Step 3: Set Undefined Values\n",
    "\n",
    "👉  The missing values in the dataset are represented by -99.00, we can replace them with NaN. \n",
    "\n",
    "NaN stands for Not A Number "
   ]
  },
  {
   "cell_type": "code",
   "execution_count": null,
   "id": "c58e20ba",
   "metadata": {},
   "outputs": [],
   "source": [
    "# Replace the missing values (-99.) with nan\n",
    "\n"
   ]
  },
  {
   "cell_type": "markdown",
   "id": "d8adf954",
   "metadata": {},
   "source": [
    "## 🏁Step 4: Create Individual 1D Arrays\n",
    "\n",
    "👉 Let's split the 2D array \"all_properties\" into individual 1D arrays for each property:\n",
    "\n",
    "- Net to gross (ntg)\n",
    "- Water saturation (sw)\n",
    "- Permeability (perm)\n",
    "- Porosity (phi)\n",
    "\n",
    "👉 This process is known as slicing which means selecting data from an array. \n",
    "\n",
    "👉 To slice elements from 2D arrays, you need to specify both, row and column index as [row_index, column_index]\n",
    "\n",
    "👉 The colon (:) is used to select **all the elements** from a row or column"
   ]
  },
  {
   "cell_type": "code",
   "execution_count": null,
   "id": "9c6bae9c",
   "metadata": {},
   "outputs": [],
   "source": [
    "# Create a 1D array for each column in the 2D array (all_properties)\n",
    "\n",
    "\n",
    "\n",
    "\n",
    "# We can also use the following 1-line syntax: \n",
    "\n",
    "# ntg, sw, perm, phi = all_properties[:, 0], all_properties[:, 1], all_properties[:, 2], all_properties[:, 3]"
   ]
  },
  {
   "cell_type": "code",
   "execution_count": null,
   "id": "014d68ed",
   "metadata": {},
   "outputs": [],
   "source": [
    "# Display a summary of each 1D array\n",
    "\n"
   ]
  },
  {
   "cell_type": "markdown",
   "id": "770dcc04",
   "metadata": {},
   "source": [
    "☝ If an array is too large to be printed, NumPy automatically skips the central part of the array and only prints the corners"
   ]
  },
  {
   "cell_type": "code",
   "execution_count": null,
   "id": "d2983788",
   "metadata": {},
   "outputs": [],
   "source": [
    "# Let's display a specific range of values from one of the arrays [245910 : 245950] -> [start_row : end_row]\n",
    "\n"
   ]
  },
  {
   "cell_type": "code",
   "execution_count": null,
   "id": "608db43a",
   "metadata": {},
   "outputs": [],
   "source": [
    "# We can also define the precision of the values to be displayed using .round()\n",
    "\n"
   ]
  },
  {
   "cell_type": "code",
   "execution_count": null,
   "id": "c64f7c22",
   "metadata": {},
   "outputs": [],
   "source": [
    "# Display the shape of each 1D array (rows,)\n",
    "\n"
   ]
  },
  {
   "cell_type": "markdown",
   "id": "6017a4fb",
   "metadata": {},
   "source": [
    "## 🏁Step 5: Run Summary Statistics on the Properties\n",
    "\n",
    "👇 Using the 1D arrays for each property, we will run summary statistics (min, max, mean) across the entire array of values"
   ]
  },
  {
   "cell_type": "code",
   "execution_count": null,
   "id": "f417f7f3",
   "metadata": {},
   "outputs": [],
   "source": [
    "# Create variables to compute the min, max and mean values for \"Net to Gross\" \n",
    " \n",
    "\n",
    "\n",
    "# Display min, max and mean values for the \"Net to Gross\"\n",
    "\n"
   ]
  },
  {
   "cell_type": "markdown",
   "id": "d5a169f8",
   "metadata": {},
   "source": [
    "💣 When we have an array that contains NaN values, using the regular np.min() function will return NaN as the minimum value. \n",
    "\n",
    "Let's fix it in the cell below 🔨"
   ]
  },
  {
   "cell_type": "code",
   "execution_count": null,
   "id": "bc98f7e9",
   "metadata": {},
   "outputs": [],
   "source": [
    "# Create variables to compute the min, max and mean values for \"Net to Gross\" \n",
    "\n",
    "\n",
    "\n",
    "# Display min, max and mean values for the \"Net to Gross\"\n",
    "\n"
   ]
  },
  {
   "cell_type": "code",
   "execution_count": null,
   "id": "0c437a08",
   "metadata": {},
   "outputs": [],
   "source": [
    "# Create variables to compute the min, max and mean values for the \"Water Saturation\" \n",
    "\n",
    "\n",
    "\n",
    "# Display min, max and mean values for the \"Water Saturation\"\n",
    "\n"
   ]
  },
  {
   "cell_type": "code",
   "execution_count": null,
   "id": "b19b09be",
   "metadata": {},
   "outputs": [],
   "source": [
    "# Create variables to compute the min, max and mean values for the \"Permeability\" variable\n",
    "\n",
    "\n",
    "\n",
    "# Display min, max and mean values for the \"Permeability\"\n",
    "\n",
    "\n"
   ]
  },
  {
   "cell_type": "code",
   "execution_count": null,
   "id": "1fdcde37",
   "metadata": {
    "scrolled": true
   },
   "outputs": [],
   "source": [
    "# Create variables to compute min, max and mean values for the \"Porosity\" variable\n",
    "\n",
    "\n",
    "\n",
    "# Display min, max and mean values for the \"Porosity\"\n",
    "\n",
    "\n"
   ]
  },
  {
   "cell_type": "markdown",
   "id": "3c61b12b",
   "metadata": {},
   "source": [
    "## 🏁Step 6: Plot Permeability vs Porosity\n",
    "\n",
    "👉 Now let's create a scatter plot of permeability versus porosity over a specific range of values"
   ]
  },
  {
   "cell_type": "code",
   "execution_count": null,
   "id": "bf198b1a",
   "metadata": {},
   "outputs": [],
   "source": [
    "# Define variables to plot (x and y) and the data range to be plotted [start_row : end_row]\n",
    "\n",
    "x = phi [685000:690000]\n",
    "y = perm [685000:690000]\n",
    "\n",
    "# Define the plotting function (plot type, plot title, axis labels, color of data points)\n",
    "\n",
    "\n",
    "\n",
    "# Axis labels\n",
    "\n",
    "\n",
    "\n",
    "\n",
    "# Logarithmic scale for perm\n",
    "\n",
    "\n",
    "\n",
    "\n",
    "# Display the plot\n",
    "\n"
   ]
  },
  {
   "cell_type": "markdown",
   "id": "47ceec97",
   "metadata": {},
   "source": [
    "<span style=\"font-size: 20px;\">❓ Does the trend make sense?</span>\n"
   ]
  },
  {
   "cell_type": "markdown",
   "id": "384daaa8",
   "metadata": {},
   "source": [
    "## 🏁Step 7: Reshape the 1D arrays into a 3D array\n",
    "\n",
    "💡 In this step we will create a function to reshape the seismic-based properties from 1D arrays to 3D arrays. \n",
    "\n",
    "The output will be used to run operations on specific layers/slices of the property cubes.\n",
    "\n",
    "For the current exercise, the shape of the property cubes is as follows (this info comes from Petrel):\n",
    "\n",
    "    i=111\n",
    "    j=140\n",
    "    k=60\n",
    "    \n",
    "    shape (111,140,60)\n",
    "    \n",
    "However, the order in which the indexes are represented in Petrel (i,j,k) is different from **Python representation (k,j,i)**\n",
    "\n",
    "💊 Below is a 2D example to understand this difference:\n",
    "\n",
    "<img src=\"../images/Pic2.jpg\" style=\"width: 1000px;\"/>\n",
    "\n",
    "💡 Therefore, once we create the 3D array, we will need to re-order it. \n",
    "\n",
    "The array should be converted to --> (i=111, j=140, k=60) this is how petrel originally reads and export the 3D data.\n",
    "\n",
    "The reshaping/reordering process will be perform in 2 steps:\n",
    "\n",
    " 1. Reshape the 1D array into a 3D NumPy array (reshape function) with dimensions (k, j, i)\n",
    "\n",
    " 2. Flip the resulting 3D array so that the shape becomes (j, i, k)\n",
    "         \n",
    "\n",
    "<img src=\"../images/Pic3.jpg\" style=\"width: 1300px;\"/>\n"
   ]
  },
  {
   "cell_type": "code",
   "execution_count": null,
   "id": "d766d662",
   "metadata": {},
   "outputs": [],
   "source": [
    "# Define the function, inputs and outputs\n",
    "\n",
    "def reorder(property, i, j, k):  \n",
    "    '''\n",
    "    This is a function to reshape and reorder the properties from 1D array to 3D array\n",
    "    \n",
    "    property: Property to reshape (example: ntg, sw, ...) \n",
    "    i: i index from the grid (As exported from Petrel)\n",
    "    j: j index from the grid (As exported from Petrel)\n",
    "    k: k index from the grid (As exported from Petrel)\n",
    "    \n",
    "    return: Returns the reshaped property cube \n",
    "       \n",
    "    '''\n",
    "\n",
    "\n",
    "    \n",
    "    return transposed"
   ]
  },
  {
   "attachments": {},
   "cell_type": "markdown",
   "id": "0f209968",
   "metadata": {},
   "source": [
    "❓ why (1, 2, 0)? \n",
    "\n",
    "reshaped.transpose((1, 2, 0)) permutes the axes of the reshaped array so that the first dimension becomes the second, the second becomes the third, and the third becomes the first\n",
    "\n",
    "**k,j, i -> j, i, k**"
   ]
  },
  {
   "cell_type": "code",
   "execution_count": null,
   "id": "9367d6e3",
   "metadata": {},
   "outputs": [],
   "source": [
    "# Run the \"reorder\" function for the following properties: ntg, sw, and phi\n",
    "\n",
    "ntg_3D= \n",
    "sw_3D= \n",
    "phi_3D= "
   ]
  },
  {
   "cell_type": "code",
   "execution_count": null,
   "id": "41b4d53d",
   "metadata": {},
   "outputs": [],
   "source": [
    "# QC the resulted cubes by checking if the dimensions are correct \n",
    "\n",
    "# 💡 Remember that we are expecting -> i=111 j=140 k=60 (140, 111, 60)\n",
    "\n"
   ]
  },
  {
   "cell_type": "code",
   "execution_count": null,
   "id": "36c93ace",
   "metadata": {},
   "outputs": [],
   "source": [
    "# Compute summary statistics on the net to gross 3D array\n",
    "\n"
   ]
  },
  {
   "cell_type": "code",
   "execution_count": null,
   "id": "813b0357",
   "metadata": {},
   "outputs": [],
   "source": [
    "# Compute summary statistics on the water saturation 3D array \n",
    "\n"
   ]
  },
  {
   "cell_type": "code",
   "execution_count": null,
   "id": "dbc1ba47",
   "metadata": {},
   "outputs": [],
   "source": [
    "# Compute summary statistics on the porosity 3D array\n",
    "\n"
   ]
  },
  {
   "cell_type": "markdown",
   "id": "9d4e60c3",
   "metadata": {},
   "source": [
    "## 🏁Step 8: Create a Property Map \n",
    "\n",
    "👉 We will create a plot the 45th layer from the porosity 3D array. The resulting image (map) will have one square for each element of the array"
   ]
  },
  {
   "cell_type": "code",
   "execution_count": null,
   "id": "05581664",
   "metadata": {},
   "outputs": [],
   "source": [
    "# Extract the layer k=45 from the porosity 3D array under a variable named 'Layer_45'\n",
    "\n"
   ]
  },
  {
   "cell_type": "code",
   "execution_count": null,
   "id": "cb3af416",
   "metadata": {},
   "outputs": [],
   "source": [
    "# Define plot size\n",
    "\n",
    "\n",
    "# Use the plt.imshow function to display a numpy array as an image. The image will have one square for each element of the array\n",
    "\n",
    "# Legend\n",
    "\n",
    "\n",
    "# Axis labels\n",
    "\n",
    "\n",
    "# Title\n",
    "\n",
    "\n",
    "# Display the plot\n"
   ]
  },
  {
   "cell_type": "markdown",
   "id": "d0bd50d5",
   "metadata": {},
   "source": [
    "## 🏁Step 9: Calculate the Volume of Oil in Place (OOIP)\n",
    "\n",
    "💡 Original Oil in place (OOIP) refers to the total volume of oil stored in a reservoir prior to production. \n",
    "\n",
    "The estimation of OOIP by the volumetric method is calculated using the following equation: \n",
    "\n",
    "<img src=\"../images/Pic4.jpg\" style=\"width: 600px;\"/>\n",
    "\n",
    "Where:\n",
    "\n",
    " - OOIP = Original oil in place (m^3)\n",
    " - A = Drainage area (m^2)\n",
    " - h = Net pay (m)\n",
    " - φ = Porosity (fraction)  \n",
    " - sw = Water saturation (fraction) \n",
    " - Boi = Formation volume factor (dimensionless) \n",
    "\n",
    "\n",
    "The volumetric calculation of OOIP will be performed in three main steps:\n",
    "  1. Define the function to compute OOIP\n",
    "  2. Run the function for layer 45 using the given parameters\n",
    "  3. Create a map for the OOIP distribution on layer 45\n"
   ]
  },
  {
   "cell_type": "code",
   "execution_count": null,
   "id": "b13d13a3",
   "metadata": {},
   "outputs": [],
   "source": [
    "# Define the function, inputs and outputs\n",
    "\n",
    "def OOIP(A, H, Boi, k): \n",
    "    \n",
    "    '''\n",
    "    This function computes the Original Oil In Place (OOIP) in metric units \n",
    "\n",
    "    Parameters:  \n",
    "    A: Drainage area (m^2)  \n",
    "    H: Reservoir thickness (m)  \n",
    "    ntg: net-to-gross ratio  (fraction)\n",
    "    phi: Porosity  (fraction) \n",
    "    sw: Water saturation  (fraction) \n",
    "    Boi: Formation volume factor (dimensionless) \n",
    "    k:specific layer to compute the equation on\n",
    "           \n",
    "    return: Returns OOIP (m^3)\n",
    "    \n",
    "    '''\n",
    "\n",
    "\n",
    "    return ooip_equ"
   ]
  },
  {
   "cell_type": "code",
   "execution_count": null,
   "id": "9fd89181",
   "metadata": {
    "scrolled": true
   },
   "outputs": [],
   "source": [
    "# Calculate the OOIP for layer 45th using the following parameters:\n",
    "\n"
   ]
  },
  {
   "cell_type": "code",
   "execution_count": null,
   "id": "0fea3066",
   "metadata": {
    "scrolled": true
   },
   "outputs": [],
   "source": [
    "# Display a summary of the OOIP array\n",
    "\n"
   ]
  },
  {
   "cell_type": "code",
   "execution_count": null,
   "id": "f29790b4",
   "metadata": {},
   "outputs": [],
   "source": [
    "# Print the shape of the OOIP array\n",
    "\n"
   ]
  },
  {
   "cell_type": "code",
   "execution_count": null,
   "id": "7d9c0186",
   "metadata": {
    "scrolled": true
   },
   "outputs": [],
   "source": [
    "# Compute summary statistics on the OOIP for layer 45th\n",
    "\n"
   ]
  },
  {
   "cell_type": "code",
   "execution_count": null,
   "id": "ec1b72a9",
   "metadata": {},
   "outputs": [],
   "source": [
    "# Create a map to display the distribution of OOIP across layer 45th \n",
    "\n",
    "# Define plot size\n",
    "\n",
    "\n",
    "# Use the plt.imshow function to display a NumPy array as an image. The image will have one square for each element of the array\n",
    "\n",
    "\n",
    "# Legend\n",
    "\n",
    "\n",
    "# Axis labels\n",
    "\n",
    "\n",
    "# Title\n"
   ]
  },
  {
   "cell_type": "markdown",
   "id": "2b680660",
   "metadata": {},
   "source": [
    "🎯 Well done!"
   ]
  },
  {
   "cell_type": "markdown",
   "id": "75a883a3",
   "metadata": {},
   "source": []
  }
 ],
 "metadata": {
  "createdOn": 1663176526317,
  "creator": "ashamsa@slb.com",
  "customFields": {},
  "kernelspec": {
   "display_name": "Python 3 (ipykernel)",
   "language": "python",
   "name": "python3"
  },
  "language_info": {
   "codemirror_mode": {
    "name": "ipython",
    "version": 3
   },
   "file_extension": ".py",
   "mimetype": "text/x-python",
   "name": "python",
   "nbconvert_exporter": "python",
   "pygments_lexer": "ipython3",
   "version": "3.8.12"
  },
  "modifiedBy": "dbecerra6@slb.com",
  "tags": [],
  "versionNumber": 2,
  "vscode": {
   "interpreter": {
    "hash": "4818919a9fcbb1ea87930a6929e5cae70da81908a23f72e084a8ab43e96a51f9"
   }
  }
 },
 "nbformat": 4,
 "nbformat_minor": 5
}
