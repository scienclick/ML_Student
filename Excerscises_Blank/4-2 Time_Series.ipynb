{
  "cells": [
    {
      "attachments": {},
      "cell_type": "markdown",
      "id": "488c8082",
      "metadata": {},
      "source": [
        "<img src=\"../images/logo.png\" alt=\"slb\" style= \"width: 1700px\"/>"
      ]
    },
    {
      "cell_type": "markdown",
      "metadata": {
        "pycharm": {
          "name": "#%% md\n"
        }
      },
      "source": [
        "# ⚡️   - Tutorial 2: Time Series Analysis `\"Optional\"`\n",
        "\n",
        "💡 For this exercise we will be using a dataset that consist of monthly co2 emissions measured at a single well location.\n",
        "\n",
        "📝 The goal is to use the historic data to predict the co2 emissions for the next 12 months. We will use time series analysis to achieve this objective 🧰"
      ]
    },
    {
      "cell_type": "markdown",
      "metadata": {},
      "source": [
        "## 🏁 Step 1: Import Required Libraries"
      ]
    },
    {
      "cell_type": "code",
      "execution_count": null,
      "metadata": {
        "pycharm": {
          "name": "#%%\n"
        }
      },
      "outputs": [],
      "source": [
        "import pandas as pd\n",
        "import matplotlib.pyplot as plt\n",
        "import numpy as np"
      ]
    },
    {
      "cell_type": "markdown",
      "metadata": {},
      "source": [
        "## 🏁 Step 2: Data Preparation"
      ]
    },
    {
      "cell_type": "code",
      "execution_count": null,
      "metadata": {},
      "outputs": [],
      "source": [
        "# Import the co2 dataset 'co2.csv'\n",
        "\n",
        "\n",
        "\n",
        "\n",
        "# ⚠️ Make sure that the column 'Prod Date' is treated as date (yyyy-mm-dd)\n",
        "\n",
        "\n",
        "\n",
        "\n",
        "# Set the column 'date' as index\n",
        "\n"
      ]
    },
    {
      "cell_type": "code",
      "execution_count": null,
      "metadata": {},
      "outputs": [],
      "source": [
        "# Explore the data 'co2_data'\n",
        "\n"
      ]
    },
    {
      "attachments": {},
      "cell_type": "markdown",
      "metadata": {},
      "source": [
        "## 🏁 Step 3: Visualize the CO2 data"
      ]
    },
    {
      "cell_type": "code",
      "execution_count": null,
      "metadata": {
        "pycharm": {
          "name": "#%%\n"
        }
      },
      "outputs": [],
      "source": [
        "# Create a line plot of the co2 data ('co2_data') per month \n",
        "\n"
      ]
    },
    {
      "cell_type": "markdown",
      "metadata": {},
      "source": [
        "## 🏁 Step 4: Manually Create Lag Variables"
      ]
    },
    {
      "cell_type": "code",
      "execution_count": null,
      "metadata": {},
      "outputs": [],
      "source": [
        "# Create three lag variables using the .shift() function\n",
        "\n"
      ]
    },
    {
      "attachments": {},
      "cell_type": "markdown",
      "metadata": {},
      "source": [
        "❓ Did you notice what the .shift() function did to the data?"
      ]
    },
    {
      "attachments": {},
      "cell_type": "markdown",
      "metadata": {},
      "source": [
        "<details>\n",
        "<summary> 💡 Hint </summary>\n",
        "    \n",
        "👌 It shifted the data in the 'co2' column down by a month\n",
        "\n",
        "</details>"
      ]
    },
    {
      "attachments": {},
      "cell_type": "markdown",
      "metadata": {},
      "source": [
        "💥 Shifting the data to create lags is a common technique used in time series analysis to create new features that help capture the temporal dependence of the data. \n",
        "\n",
        "By creating lagged features, we essentially add information about the past values of the time series to each observation"
      ]
    },
    {
      "cell_type": "markdown",
      "metadata": {},
      "source": [
        "## 🏁 Step 5: Define a Function to Create Multiple Lag Variables"
      ]
    },
    {
      "cell_type": "code",
      "execution_count": null,
      "metadata": {
        "pycharm": {
          "name": "#%%\n"
        }
      },
      "outputs": [],
      "source": [
        "# We can define a function to create multiple lag variables \n",
        "\n"
      ]
    },
    {
      "attachments": {},
      "cell_type": "markdown",
      "metadata": {},
      "source": [
        "💡 This is an example of what the function does when we create 12 lag variables\n",
        "\n",
        "`reformat (co2_data, lag_first=1, lag_last=12, col=[\"co2])`\n",
        "👇\n",
        "\n",
        "<img src=\"../images/Pic6.png\" style=\"width: 1300px;\"/>"
      ]
    },
    {
      "cell_type": "code",
      "execution_count": null,
      "metadata": {
        "pycharm": {
          "name": "#%%\n"
        }
      },
      "outputs": [],
      "source": [
        "# Apply the reformat function to the co2_data and call the new dataframe 'co2_data_reformat'\n",
        "\n"
      ]
    },
    {
      "cell_type": "code",
      "execution_count": null,
      "metadata": {
        "pycharm": {
          "name": "#%%\n"
        }
      },
      "outputs": [],
      "source": [
        "# Display the head of the new dataframe 'co2_data_reformat'\n",
        "\n"
      ]
    },
    {
      "cell_type": "markdown",
      "metadata": {},
      "source": [
        "## 🏁 Step 6: Drop the Rows with Null Values"
      ]
    },
    {
      "cell_type": "code",
      "execution_count": null,
      "metadata": {
        "pycharm": {
          "name": "#%%\n"
        }
      },
      "outputs": [],
      "source": [
        "# Remove the rows containing null values from the 'co2_data_reformat' dataset\n",
        "\n",
        "\n",
        "\n",
        "\n",
        "# Display the edited dataframe 'co2_data_reformat'\n",
        "\n"
      ]
    },
    {
      "cell_type": "markdown",
      "metadata": {},
      "source": [
        "## 🏁 Step 7: Generate Various ML Models"
      ]
    },
    {
      "cell_type": "code",
      "execution_count": null,
      "metadata": {
        "pycharm": {
          "name": "#%%\n"
        }
      },
      "outputs": [],
      "source": [
        "# First we need to define the features and target variables\n"
      ]
    },
    {
      "cell_type": "code",
      "execution_count": null,
      "metadata": {
        "pycharm": {
          "name": "#%%\n"
        }
      },
      "outputs": [],
      "source": [
        "# Define the number of test months 'Ntest'\n",
        "\n",
        "\n",
        "\n",
        "# Define the test and train sets\n",
        "\n"
      ]
    },
    {
      "cell_type": "code",
      "execution_count": null,
      "metadata": {
        "pycharm": {
          "name": "#%%\n"
        }
      },
      "outputs": [],
      "source": [
        "# Train a XGBoost regression model\n",
        "\n",
        "import xgboost as xgb\n",
        "\n",
        "\n",
        "\n",
        "# Evaluate the XGB model using the r2 \n"
      ]
    },
    {
      "cell_type": "code",
      "execution_count": null,
      "metadata": {
        "pycharm": {
          "name": "#%%\n"
        }
      },
      "outputs": [],
      "source": [
        "from sklearn.linear_model import LinearRegression\n",
        "\n",
        "# Train a linear regression model\n",
        "\n",
        "\n",
        "\n",
        "\n",
        "# Evaluate the 'lr' model using the r2 \n"
      ]
    },
    {
      "cell_type": "code",
      "execution_count": null,
      "metadata": {
        "pycharm": {
          "name": "#%%\n"
        }
      },
      "outputs": [],
      "source": [
        "from sklearn.ensemble import RandomForestRegressor\n",
        "\n",
        "# Train a random forest model\n",
        "\n",
        "\n",
        "\n",
        "\n",
        "# Evaluate the 'rf' model using the r2 \n",
        "\n"
      ]
    },
    {
      "cell_type": "markdown",
      "metadata": {},
      "source": [
        "## 🏁 Step 8: Compare the ML Models"
      ]
    },
    {
      "cell_type": "code",
      "execution_count": null,
      "metadata": {
        "pycharm": {
          "name": "#%%\n"
        }
      },
      "outputs": [],
      "source": [
        "# First let's prepare the data for visualization\n",
        "\n"
      ]
    },
    {
      "cell_type": "code",
      "execution_count": null,
      "metadata": {},
      "outputs": [],
      "source": [
        "# Now let's add the co2 predictions from our models to the original dataset 'co2_data'\n",
        "\n"
      ]
    },
    {
      "cell_type": "code",
      "execution_count": null,
      "metadata": {
        "pycharm": {
          "name": "#%%\n"
        }
      },
      "outputs": [],
      "source": [
        "# Visualize the predictions from each model on the train and test sets\n",
        "\n"
      ]
    },
    {
      "cell_type": "code",
      "execution_count": null,
      "metadata": {
        "pycharm": {
          "name": "#%%\n"
        }
      },
      "outputs": [],
      "source": [
        "# Visualize the predictions of each model on the test set\n",
        "\n",
        "\n"
      ]
    },
    {
      "cell_type": "markdown",
      "metadata": {},
      "source": [
        "🎯 Well done!"
      ]
    }
  ],
  "metadata": {
    "createdOn": 1663182177186,
    "creator": "ashamsa@slb.com",
    "customFields": {},
    "kernelspec": {
      "display_name": "Python 3.9.13 ('ML_Course')",
      "language": "python",
      "name": "python3"
    },
    "language_info": {
      "codemirror_mode": {
        "name": "ipython",
        "version": 3
      },
      "file_extension": ".py",
      "mimetype": "text/x-python",
      "name": "python",
      "nbconvert_exporter": "python",
      "pygments_lexer": "ipython3",
      "version": "3.8.12"
    },
    "modifiedBy": "dbecerra6@slb.com",
    "tags": [],
    "vscode": {
      "interpreter": {
        "hash": "4818919a9fcbb1ea87930a6929e5cae70da81908a23f72e084a8ab43e96a51f9"
      }
    }
  },
  "nbformat": 4,
  "nbformat_minor": 1
}
