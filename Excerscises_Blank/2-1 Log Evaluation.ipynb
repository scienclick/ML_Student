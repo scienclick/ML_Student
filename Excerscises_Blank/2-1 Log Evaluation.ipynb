{
 "cells": [
  {
   "cell_type": "markdown",
   "id": "1c63fa68",
   "metadata": {},
   "source": [
    "<img src=\"../images/logo.png\" alt=\"slb\" style= \"width: 1700px\"/>"
   ]
  },
  {
   "cell_type": "markdown",
   "id": "c5c43641",
   "metadata": {
    "pycharm": {
     "name": "#%% md\n"
    }
   },
   "source": [
    "## ⚡️   - Tutorial 1: Log Evaluation\n",
    "\n",
    "💡 In this tutorial, we will learn how to import and manipulate well log data for reservoir evaluation. The tutorial is subdivided into four sections:\n",
    "\n",
    "1. Exploring well log data (LAS file)\n",
    "2. Importing well tops \n",
    "3. Defining facies using well logs\n",
    "4. Plotting well log data\n",
    "\n",
    "\n",
    "💪 After completing this exercise you should be comfortable with displaying and manipulating log data"
   ]
  },
  {
   "cell_type": "markdown",
   "id": "16281f30",
   "metadata": {},
   "source": [
    "### 🏁 Step 1: Install Required Packages"
   ]
  },
  {
   "cell_type": "markdown",
   "id": "41503b18",
   "metadata": {},
   "source": [
    "👇 `pip install 'package-name'` is the standard way of installing required libraries"
   ]
  },
  {
   "cell_type": "code",
   "execution_count": 101,
   "id": "d7403bc6",
   "metadata": {
    "pycharm": {
     "name": "#%%\n"
    }
   },
   "outputs": [],
   "source": [
    "# !pip install lasio\n",
    "# !pip install plotly\n",
    "\n",
    "# If the libraries are already installed in the current environment, \n",
    "# the output message will be \"Requirement already satisfied ...\""
   ]
  },
  {
   "cell_type": "markdown",
   "id": "64829ba0",
   "metadata": {},
   "source": [
    "### 🏁 Step 2: Import Libraries"
   ]
  },
  {
   "cell_type": "code",
   "execution_count": 102,
   "id": "a247e35a",
   "metadata": {
    "pycharm": {
     "name": "#%%\n"
    },
    "scrolled": true
   },
   "outputs": [],
   "source": [
    "# Import required libraries\n",
    "\n",
    "import numpy as np\n",
    "import pandas as pd\n",
    "import seaborn as sns\n",
    "import matplotlib.pyplot as plt\n",
    "import plotly.express as px\n",
    "import lasio"
   ]
  },
  {
   "cell_type": "markdown",
   "id": "5afb7f3e",
   "metadata": {
    "pycharm": {
     "name": "#%% md\n"
    }
   },
   "source": [
    "### 🏁 Step 3: Import the .las File \n",
    "\n",
    "Use the Lasio library to import the .las file. The file is named similar to its associated the well name 👉  **\"Diamond-14.las\"** \n"
   ]
  },
  {
   "cell_type": "code",
   "execution_count": 103,
   "id": "04adcfdf",
   "metadata": {
    "pycharm": {
     "name": "#%%\n"
    },
    "scrolled": true
   },
   "outputs": [],
   "source": [
    "# Read the .LAS file using lasio, call it D14\n",
    "\n",
    "D14 = lasio.read(\"../Data/Diamond-14.las\")"
   ]
  },
  {
   "cell_type": "markdown",
   "id": "46d5feb4",
   "metadata": {
    "pycharm": {
     "name": "#%% md\n"
    }
   },
   "source": [
    "### 🏁 Step 4: Display the Data in the .las File\n",
    "\n",
    "Now that our file has been loaded, we can display its content: Header, curves description, and log data "
   ]
  },
  {
   "cell_type": "code",
   "execution_count": null,
   "id": "a36d7245",
   "metadata": {
    "pycharm": {
     "name": "#%%\n"
    },
    "scrolled": false
   },
   "outputs": [],
   "source": [
    "# Display the header of the .las file\n",
    "\n"
   ]
  },
  {
   "cell_type": "code",
   "execution_count": null,
   "id": "ace927dc",
   "metadata": {
    "pycharm": {
     "name": "#%%\n"
    }
   },
   "outputs": [],
   "source": [
    "# Display the description of the log curves present in the .las file\n",
    "\n"
   ]
  },
  {
   "cell_type": "code",
   "execution_count": null,
   "id": "809240aa",
   "metadata": {
    "pycharm": {
     "name": "#%%\n"
    }
   },
   "outputs": [],
   "source": [
    "# Display a summary of the log data in the .las file\n",
    "\n"
   ]
  },
  {
   "cell_type": "markdown",
   "id": "ab0af8b8",
   "metadata": {
    "pycharm": {
     "name": "#%% md\n"
    }
   },
   "source": [
    "### 🏁 Step 5: Create a Dataframe \n",
    "\n",
    "💡 In this step, we will convert the data that was loaded using lasio ('D14') into a pandas dataframe. This will facilitate data manipulation and allow for further plotting\n",
    "\n",
    "👌 Dataframes are typically used for data wrangling because they represent data in a tabular format, with rows and columns"
   ]
  },
  {
   "cell_type": "code",
   "execution_count": null,
   "id": "ac1bb298",
   "metadata": {
    "pycharm": {
     "name": "#%%\n"
    }
   },
   "outputs": [],
   "source": [
    "# Create the dataframe using the \"D14\" dataset, call it D14_logs\n",
    "\n"
   ]
  },
  {
   "cell_type": "code",
   "execution_count": null,
   "id": "04d45802",
   "metadata": {
    "pycharm": {
     "name": "#%%\n"
    }
   },
   "outputs": [],
   "source": [
    "# To get an overview of the newly created dataframe, print its summary using the 'info()' method\n",
    "\n"
   ]
  },
  {
   "cell_type": "code",
   "execution_count": null,
   "id": "4621666c",
   "metadata": {
    "pycharm": {
     "name": "#%%\n"
    },
    "scrolled": false
   },
   "outputs": [],
   "source": [
    "# Display the first five rows of the dataframe using the 'head()' method\n",
    "\n",
    "\n",
    "\n",
    "# ✍️ The value inside the brackets specifies the number of rows to display"
   ]
  },
  {
   "cell_type": "code",
   "execution_count": null,
   "id": "fed42e72",
   "metadata": {
    "pycharm": {
     "name": "#%%\n"
    }
   },
   "outputs": [],
   "source": [
    "# Generate descriptive statistics of the log data\n",
    "\n"
   ]
  },
  {
   "cell_type": "code",
   "execution_count": null,
   "id": "ebdbcba3",
   "metadata": {},
   "outputs": [],
   "source": [
    "# We can also use the .T() function to transpose the data frame (index and columns)\n",
    "\n"
   ]
  },
  {
   "cell_type": "markdown",
   "id": "41a5dc75",
   "metadata": {},
   "source": [
    "### 🏁 Step 6: Replace Negative Values by NaN\n",
    "\n",
    "💡 Note that from the previous step, we can see that certain logs such as RHOB, DT, etc. contain negative values. Such values are likely due to tool errors and should be replaced with appropriate values 👇\n"
   ]
  },
  {
   "cell_type": "code",
   "execution_count": null,
   "id": "a2297edf",
   "metadata": {
    "pycharm": {
     "name": "#%%\n"
    }
   },
   "outputs": [],
   "source": [
    "# Replace negative values on the 'RHOB' and 'DT' logs using the .mask () method\n",
    "\n"
   ]
  },
  {
   "cell_type": "code",
   "execution_count": null,
   "id": "02ef6097",
   "metadata": {},
   "outputs": [],
   "source": [
    "# Check the statistics for the well logs after we replaced the negative values\n",
    "\n"
   ]
  },
  {
   "cell_type": "markdown",
   "id": "d338bb11",
   "metadata": {},
   "source": [
    "### 🏁 Step 7: Compute a New Well Log \n",
    "\n",
    "💡 After cleaning our log data from negative values, we can now use it to estimate geological properties. As an example, we will calculate an Acoustic Impedance (AI) log using the density (RHOB) and sonic logs (DT)\n",
    "\n",
    "**AI= Bulk density x Velocity**\n",
    "\n",
    "Note that the sonic log measures transit time, so we will need to compute velocity: 👇\n",
    "\n",
    "**Velocity= 1000000 / DT**"
   ]
  },
  {
   "cell_type": "code",
   "execution_count": null,
   "id": "d7eee99d",
   "metadata": {
    "pycharm": {
     "name": "#%%\n"
    }
   },
   "outputs": [],
   "source": [
    "# Calculate acoustic impedance (AI): AI= density x velocity\n",
    "\n"
   ]
  },
  {
   "cell_type": "code",
   "execution_count": null,
   "id": "8b82562b",
   "metadata": {
    "pycharm": {
     "name": "#%%\n"
    }
   },
   "outputs": [],
   "source": [
    "# Validate the resulting AI log by looking at its summary statistics\n",
    "\n"
   ]
  },
  {
   "cell_type": "markdown",
   "id": "5d1d5369",
   "metadata": {},
   "source": [
    "### 🏁 Step 8: Replace Infinity Values in the AI log with NaN\n",
    "\n",
    "Note that the minimum and maximum values of the AI log are 👉-inf and inf👈. \n",
    "\n",
    "Infinite values may occur when the denominator (DT) equals 0\n",
    "\n",
    "👉 We can use the .mask () function to replace any inf values by NaN"
   ]
  },
  {
   "cell_type": "code",
   "execution_count": null,
   "id": "e8e1afc5",
   "metadata": {
    "pycharm": {
     "name": "#%%\n"
    }
   },
   "outputs": [],
   "source": [
    "# Replace the inf and -inf data in the AI log by NaN\n",
    "\n"
   ]
  },
  {
   "cell_type": "markdown",
   "id": "cf6f5094",
   "metadata": {},
   "source": [
    "👁‍🗨 The **|** operator is the \"or\" operator"
   ]
  },
  {
   "cell_type": "code",
   "execution_count": null,
   "id": "fb125b50",
   "metadata": {},
   "outputs": [],
   "source": [
    "# Validate the results by looking at the stats of the AI log again\n",
    "\n"
   ]
  },
  {
   "cell_type": "markdown",
   "id": "3ebf07e4",
   "metadata": {},
   "source": [
    "### 🏁 Step 9: Identify and Handle Outliers\n",
    "\n",
    "👇 We will create a box plot to detect potential outliers in the data. We will use the AI log as an example"
   ]
  },
  {
   "cell_type": "code",
   "execution_count": null,
   "id": "b22f15fa",
   "metadata": {
    "pycharm": {
     "name": "#%%\n"
    },
    "scrolled": false
   },
   "outputs": [],
   "source": [
    "# Evaluate the data range from a boxplot and identify potential outliers\n",
    "\n"
   ]
  },
  {
   "cell_type": "markdown",
   "id": "c05d23e9",
   "metadata": {},
   "source": [
    "💡 Box plots are very useful to identify outliers\n",
    "\n",
    "In this case, we can see that the outliers are so extreme that the plot is skewed, which is very common in geological data.\n",
    "\n",
    "Therefore, it is recommended to remove some outliers for a better understanding of the data distribution 👇"
   ]
  },
  {
   "cell_type": "code",
   "execution_count": null,
   "id": "15ba2366",
   "metadata": {
    "pycharm": {
     "name": "#%%\n"
    }
   },
   "outputs": [],
   "source": [
    "# First, let's print the number of rows in the AI column before removing outliers\n",
    "\n"
   ]
  },
  {
   "cell_type": "code",
   "execution_count": null,
   "id": "9938c8fc",
   "metadata": {
    "pycharm": {
     "name": "#%%\n"
    }
   },
   "outputs": [],
   "source": [
    "# Remove the rows for AI>25000 (Feel free to play with this number)\n"
   ]
  },
  {
   "cell_type": "code",
   "execution_count": null,
   "id": "714d9921",
   "metadata": {},
   "outputs": [],
   "source": [
    "# Print the number of rows after removing the outliers\n",
    "\n"
   ]
  },
  {
   "cell_type": "code",
   "execution_count": null,
   "id": "2723c568",
   "metadata": {},
   "outputs": [],
   "source": [
    "# Display the content of the edited AI column\n",
    "\n"
   ]
  },
  {
   "cell_type": "code",
   "execution_count": null,
   "id": "85a8253c",
   "metadata": {
    "pycharm": {
     "name": "#%%\n"
    }
   },
   "outputs": [],
   "source": [
    "# Create a boxplot of the AI data after removing the outliers\n",
    "\n"
   ]
  },
  {
   "cell_type": "code",
   "execution_count": null,
   "id": "2a03ece7",
   "metadata": {
    "pycharm": {
     "name": "#%%\n"
    }
   },
   "outputs": [],
   "source": [
    "# Create a histogram of the AI log to validate the data range after removing outliers \n",
    "\n"
   ]
  },
  {
   "cell_type": "markdown",
   "id": "3d085460",
   "metadata": {
    "pycharm": {
     "name": "#%% md\n"
    }
   },
   "source": [
    "### 🏁 Step 10: Create a Sub-set of Data\n",
    "\n",
    "👇 To facilitate the visualization and manipulation of the log data, we can create a sub-data frame to keep only the well logs that are required for the rest of the tutorial\n",
    "\n",
    "Among the 38 columns in the original .las files (+ AI log), we will make a sub-set containing the following curves: CALI, GR, DT, RHOB, NPHI, PHIT, RT, VCL, and AI\n"
   ]
  },
  {
   "cell_type": "code",
   "execution_count": null,
   "id": "874d62f7",
   "metadata": {
    "pycharm": {
     "name": "#%%\n"
    },
    "scrolled": false
   },
   "outputs": [],
   "source": [
    "# Create a sub-set selecting the following columns: # 'CALI', 'GR','DT','RHOB','NPHI','PHIT','RT','VCL','AI'\n",
    "\n",
    "\n",
    "\n",
    "# 👁‍🗨 Double square brackets are used to return a DataFrame"
   ]
  },
  {
   "cell_type": "code",
   "execution_count": null,
   "id": "8e6439ed",
   "metadata": {
    "pycharm": {
     "name": "#%%\n"
    },
    "scrolled": true
   },
   "outputs": [],
   "source": [
    "# Print a summary of the resulting sub-set\n",
    "\n"
   ]
  },
  {
   "cell_type": "markdown",
   "id": "e98a06d9",
   "metadata": {
    "pycharm": {
     "name": "#%% md\n"
    }
   },
   "source": [
    "### 🏁 Step 11: Import the Well Tops from a .csv file"
   ]
  },
  {
   "cell_type": "code",
   "execution_count": null,
   "id": "1f201618",
   "metadata": {
    "pycharm": {
     "name": "#%%\n"
    }
   },
   "outputs": [],
   "source": [
    "# Read well tops from a .csv file\n",
    "\n",
    "\n",
    "\n",
    "\n",
    "# Display the content of the loaded well tops file\n",
    "\n"
   ]
  },
  {
   "cell_type": "markdown",
   "id": "dcd61a03",
   "metadata": {},
   "source": [
    "### 🏁 Step 12: Run Basic Operations on the Well Tops"
   ]
  },
  {
   "cell_type": "code",
   "execution_count": null,
   "id": "91044039",
   "metadata": {
    "pycharm": {
     "name": "#%%\n"
    },
    "scrolled": true
   },
   "outputs": [],
   "source": [
    "# Compute the average depth for each formation top for the three wells (Diamond-14, DIamond-10 and Diamond-03)\n",
    "\n"
   ]
  },
  {
   "cell_type": "markdown",
   "id": "d145eaf6",
   "metadata": {
    "pycharm": {
     "name": "#%% md\n"
    }
   },
   "source": [
    "### 🏁Step 13: Re-Arrange the Well Tops Dataframe  "
   ]
  },
  {
   "cell_type": "code",
   "execution_count": null,
   "id": "4f53489c",
   "metadata": {
    "pycharm": {
     "name": "#%%\n"
    }
   },
   "outputs": [],
   "source": [
    "# Re-arrange the dataframe using the .pivot_table () function for: columns= Surface and index= Well name\n",
    "\n"
   ]
  },
  {
   "cell_type": "markdown",
   "id": "5d0ef094",
   "metadata": {
    "pycharm": {
     "name": "#%% md\n"
    }
   },
   "source": [
    "### 🏁 Step 14: Sort Well Tops"
   ]
  },
  {
   "cell_type": "code",
   "execution_count": null,
   "id": "a606ae63",
   "metadata": {
    "pycharm": {
     "name": "#%%\n"
    }
   },
   "outputs": [],
   "source": [
    "# Sort the tops in each well based on depth ('MD')\n",
    "\n"
   ]
  },
  {
   "cell_type": "markdown",
   "id": "b1a1a62f",
   "metadata": {
    "pycharm": {
     "name": "#%% md\n"
    }
   },
   "source": [
    "### 🏁 Step 15: Define a Zone of Interest Between Two Well Tops \n",
    "\n",
    "\n",
    "💡 Now, we will create a sub-set of our log dataframe to keep only the values within the interval of \"HOUSTON\" and \"HOUSTON_BASE\" well tops\n"
   ]
  },
  {
   "cell_type": "code",
   "execution_count": null,
   "id": "3461ec82",
   "metadata": {
    "pycharm": {
     "name": "#%%\n"
    }
   },
   "outputs": [],
   "source": [
    "# Index the 'tops' dataframe based on well (\"Well name\") and well top (\"Surface\")\n",
    "\n",
    "\n",
    "# 👁‍🗨 The inplace=True parameter means that the operation will be performed on the original tops DataFrame\n",
    "\n",
    "\n",
    "# Display the resulting dataframe\n",
    "\n",
    "\n",
    "\n",
    "# 👇 As shown in the output table, the data now has 2 index columns, Well name and Surface"
   ]
  },
  {
   "cell_type": "markdown",
   "id": "9b81e65e",
   "metadata": {},
   "source": [
    "🧐 The list of column names, [\"Well name\", \"Surface\"], specifies that the new index will have two levels: the first level is the \"Well name\" column and the second level is the \"Surface\" column"
   ]
  },
  {
   "cell_type": "code",
   "execution_count": null,
   "id": "0a3f886f",
   "metadata": {
    "pycharm": {
     "name": "#%%\n"
    }
   },
   "outputs": [],
   "source": [
    "# Define two variables to store the top= HOUSTON and base= HOUSTON_BASE of our zone of interest\n",
    "\n",
    "\n",
    "# 👌 Here we are filtering the rows where the \"Well name\" is \"Diamond-14\" and the \"Surface\" is \"HOUSTON\"\n",
    "\n"
   ]
  },
  {
   "cell_type": "code",
   "execution_count": null,
   "id": "3c992bc8",
   "metadata": {},
   "outputs": [],
   "source": [
    "# Let's print the variables top and base\n",
    "\n"
   ]
  },
  {
   "cell_type": "code",
   "execution_count": null,
   "id": "8657558c",
   "metadata": {
    "pycharm": {
     "name": "#%%\n"
    }
   },
   "outputs": [],
   "source": [
    "# Use the .loc() function to retrieve the data values in the zone of interest (within 'top' and 'base')\n",
    "\n",
    "\n",
    "\n",
    "# 👌 Here we select only the rows whose index values are within the variables top and base\n",
    "\n",
    "# Display the resulting dataframe\n",
    "\n"
   ]
  },
  {
   "cell_type": "markdown",
   "id": "d1d34075",
   "metadata": {
    "pycharm": {
     "name": "#%% md\n"
    }
   },
   "source": [
    "### 🏁Step 16: Facies Classification Using Well Logs\n",
    "\n",
    "💡 In this portion of the tutorial we will create a facies classification based on a Gamma Ray cut off"
   ]
  },
  {
   "cell_type": "code",
   "execution_count": null,
   "id": "b98536ef",
   "metadata": {
    "pycharm": {
     "name": "#%%\n"
    }
   },
   "outputs": [],
   "source": [
    "# Create a function to define the facies classes -> GR> 50 : Shale and  GR< 50 : Sand\n",
    "\n"
   ]
  },
  {
   "cell_type": "code",
   "execution_count": null,
   "id": "0624c72c",
   "metadata": {},
   "outputs": [],
   "source": [
    "# This is an example of how the function GR_Facies could be used for a single value\n",
    "\n"
   ]
  },
  {
   "cell_type": "markdown",
   "id": "175a40c6",
   "metadata": {},
   "source": [
    "💊 However, as we need to calculate the facies log for every value in a specific column of a dataframe, we should use the .apply () method 👇"
   ]
  },
  {
   "cell_type": "code",
   "execution_count": null,
   "id": "afc8046d",
   "metadata": {
    "pycharm": {
     "name": "#%%\n"
    }
   },
   "outputs": [],
   "source": [
    "# Create a column named 'Facies Type' and apply the 'GR_Facies' function to it\n",
    "\n",
    "\n",
    "\n",
    "\n",
    "# Display a summary of the dataset. It should include the 'Facies Type' column\n",
    "\n"
   ]
  },
  {
   "cell_type": "markdown",
   "id": "e62a15a9",
   "metadata": {
    "pycharm": {
     "name": "#%% md\n"
    }
   },
   "source": [
    "### 🏁 Step 17: Plotting Well Log Data\n",
    "\n",
    "💡 The analysis of well log data relies on a variety of plots such as line plots (log vs depth), histograms, cross-plots, etc.\n",
    "\n",
    "In this exercise we will explore the usage of various python libraries including matplotlib, seaborn and plotly, to create the most frequently used plots for well log evaluation:\n",
    "\n",
    "- Line plot\n",
    "- 2D and 3D scatter plot\n",
    "- Box plots\n",
    "- Histogram \n",
    "- Correlation matrix"
   ]
  },
  {
   "cell_type": "code",
   "execution_count": null,
   "id": "4ad2d8c5",
   "metadata": {
    "pycharm": {
     "name": "#%%\n"
    },
    "scrolled": false
   },
   "outputs": [],
   "source": [
    "# Using Matplotlib create a vertical plot of the GR log within the ZOI\n",
    "\n",
    "\n"
   ]
  },
  {
   "cell_type": "code",
   "execution_count": null,
   "id": "5b0bf2e6",
   "metadata": {
    "pycharm": {
     "name": "#%%\n"
    }
   },
   "outputs": [],
   "source": [
    "# We can improve the plot above by adjusting the size, adding a title, axis labels and a grid\n",
    "\n"
   ]
  },
  {
   "cell_type": "code",
   "execution_count": null,
   "id": "fe7a25d7",
   "metadata": {
    "pycharm": {
     "name": "#%%\n"
    }
   },
   "outputs": [],
   "source": [
    "# Use Matplotlib to create a scatter plot of gamma ray Vs bulk density, with markers colored by DT\n",
    "\n"
   ]
  },
  {
   "cell_type": "code",
   "execution_count": null,
   "id": "9056852d",
   "metadata": {
    "pycharm": {
     "name": "#%%\n"
    }
   },
   "outputs": [],
   "source": [
    "# Use plotly to create a 3D plot of the NPHI, RHOB and GR logs with markers colored by DT\n",
    "\n",
    "\n",
    "\n",
    "# 👁‍🗨 Make sure to explore the icons on the top right of the plot!"
   ]
  },
  {
   "cell_type": "code",
   "execution_count": null,
   "id": "334c65e2",
   "metadata": {
    "pycharm": {
     "name": "#%%\n"
    }
   },
   "outputs": [],
   "source": [
    "# Use plotly to create a histogram of the bulk density log. \n",
    "# Be sure to customize the bin number ('nbins')! \n",
    "\n"
   ]
  },
  {
   "cell_type": "code",
   "execution_count": null,
   "id": "ab76c98a",
   "metadata": {},
   "outputs": [],
   "source": [
    "# We can also can create a histogram of the bulk density grouped/colored by facies\n",
    "\n"
   ]
  },
  {
   "cell_type": "code",
   "execution_count": null,
   "id": "1bd72be7",
   "metadata": {
    "pycharm": {
     "name": "#%%\n"
    }
   },
   "outputs": [],
   "source": [
    "# Use plotly to create a boxplot of the gamma ray by facies\n",
    "\n",
    "\n",
    "\n",
    "# 💥 Make sure to hover over the boxplot to read the statistics!"
   ]
  },
  {
   "cell_type": "code",
   "execution_count": null,
   "id": "6cdf67df",
   "metadata": {
    "pycharm": {
     "name": "#%%\n"
    }
   },
   "outputs": [],
   "source": [
    "# Use plotly to create a strip plot of the Neutron porosity, grouped by facies\n",
    "\n"
   ]
  },
  {
   "cell_type": "code",
   "execution_count": null,
   "id": "8100160e",
   "metadata": {
    "pycharm": {
     "name": "#%%\n"
    }
   },
   "outputs": [],
   "source": [
    "# Use Plotly to create a scatterplot of RHOB versus NPHI, and compute a trend line for the data\n",
    "\n",
    "\n",
    "\n",
    "# 'ols' stands for Ordinary Least Squares (OLS) regression, which is the standard method ...\n",
    "# used to fit a linear regression line to data point"
   ]
  },
  {
   "cell_type": "markdown",
   "id": "99394177",
   "metadata": {
    "pycharm": {
     "name": "#%% md\n"
    }
   },
   "source": [
    "### 🏁 Step 18: Calculate and Visualize a Correlation Matrix "
   ]
  },
  {
   "cell_type": "code",
   "execution_count": null,
   "id": "96f4e1a9",
   "metadata": {
    "pycharm": {
     "name": "#%%\n"
    }
   },
   "outputs": [],
   "source": [
    "# Use the function .corr() to compute the pearson correlation coefficient for all columns ... \n",
    "# within the D14_ZOI dataframe\n"
   ]
  },
  {
   "cell_type": "code",
   "execution_count": null,
   "id": "c5cfccff",
   "metadata": {
    "pycharm": {
     "name": "#%%\n"
    }
   },
   "outputs": [],
   "source": [
    "# Use Seaborn to create a heat map of the correlation matrix ('Matrix_Full')\n",
    "\n"
   ]
  },
  {
   "cell_type": "code",
   "execution_count": null,
   "id": "819640a9",
   "metadata": {
    "pycharm": {
     "name": "#%%\n"
    }
   },
   "outputs": [],
   "source": [
    "# Use Plotly to display the graphical correlation between 'RHOB','NPHI','DT', and 'GR'\n",
    "\n"
   ]
  },
  {
   "cell_type": "code",
   "execution_count": null,
   "id": "0118d760",
   "metadata": {
    "pycharm": {
     "name": "#%%\n"
    }
   },
   "outputs": [],
   "source": [
    "# We can also use plotly to create a parallel coordinates plot to visualize the correlation between those logs\n",
    "\n",
    "\n"
   ]
  },
  {
   "cell_type": "markdown",
   "id": "e9984ad0",
   "metadata": {},
   "source": [
    "☝️ In the plot above, each horizontal line represents a data point (a row in the data frame)!\n",
    "\n",
    "💥 The plot provides a way to quickly see the relationships between multiple variables in a single visualization "
   ]
  },
  {
   "cell_type": "markdown",
   "id": "2a094929",
   "metadata": {},
   "source": [
    "🎯 Well done!"
   ]
  }
 ],
 "metadata": {
  "createdOn": 1663178326797,
  "creator": "ashamsa@slb.com",
  "customFields": {},
  "kernelspec": {
   "display_name": "Python 3 (ipykernel)",
   "language": "python",
   "name": "python3"
  },
  "language_info": {
   "codemirror_mode": {
    "name": "ipython",
    "version": 3
   },
   "file_extension": ".py",
   "mimetype": "text/x-python",
   "name": "python",
   "nbconvert_exporter": "python",
   "pygments_lexer": "ipython3",
   "version": "3.8.12"
  },
  "modifiedBy": "dbecerra6@slb.com",
  "tags": [],
  "versionNumber": 2,
  "vscode": {
   "interpreter": {
    "hash": "4818919a9fcbb1ea87930a6929e5cae70da81908a23f72e084a8ab43e96a51f9"
   }
  }
 },
 "nbformat": 4,
 "nbformat_minor": 5
}
